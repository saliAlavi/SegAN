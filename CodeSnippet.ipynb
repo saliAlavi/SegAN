{
 "cells": [
  {
   "cell_type": "code",
   "execution_count": 1,
   "metadata": {
    "pycharm": {
     "is_executing": false
    }
   },
   "outputs": [
    {
     "traceback": [
      "\u001b[1;31m---------------------------------------------------------------------------\u001b[0m",
      "\u001b[1;31mNotADirectoryError\u001b[0m                        Traceback (most recent call last)",
      "\u001b[1;32m<ipython-input-1-e1d95f8e2844>\u001b[0m in \u001b[0;36m<module>\u001b[1;34m\u001b[0m\n\u001b[0;32m     24\u001b[0m \u001b[1;32mfor\u001b[0m \u001b[0mfolder\u001b[0m \u001b[1;32min\u001b[0m \u001b[0mmain_dir\u001b[0m\u001b[1;33m:\u001b[0m\u001b[1;33m\u001b[0m\u001b[1;33m\u001b[0m\u001b[0m\n\u001b[0;32m     25\u001b[0m     \u001b[0mcur_dir\u001b[0m \u001b[1;33m=\u001b[0m \u001b[0mos\u001b[0m\u001b[1;33m.\u001b[0m\u001b[0mpath\u001b[0m\u001b[1;33m.\u001b[0m\u001b[0mjoin\u001b[0m\u001b[1;33m(\u001b[0m\u001b[0mfolder_name\u001b[0m\u001b[1;33m,\u001b[0m\u001b[0mfolder\u001b[0m\u001b[1;33m)\u001b[0m\u001b[1;33m\u001b[0m\u001b[1;33m\u001b[0m\u001b[0m\n\u001b[1;32m---> 26\u001b[1;33m     \u001b[0mcur_dir_files\u001b[0m \u001b[1;33m=\u001b[0m \u001b[0mos\u001b[0m\u001b[1;33m.\u001b[0m\u001b[0mlistdir\u001b[0m\u001b[1;33m(\u001b[0m\u001b[0mcur_dir\u001b[0m\u001b[1;33m)\u001b[0m\u001b[1;33m\u001b[0m\u001b[1;33m\u001b[0m\u001b[0m\n\u001b[0m\u001b[0;32m     27\u001b[0m     \u001b[1;32mfor\u001b[0m \u001b[0mi\u001b[0m\u001b[1;33m,\u001b[0m\u001b[0mfile\u001b[0m \u001b[1;32min\u001b[0m \u001b[0menumerate\u001b[0m\u001b[1;33m(\u001b[0m\u001b[0mcur_dir_files\u001b[0m\u001b[1;33m)\u001b[0m\u001b[1;33m:\u001b[0m\u001b[1;33m\u001b[0m\u001b[1;33m\u001b[0m\u001b[0m\n\u001b[0;32m     28\u001b[0m \u001b[1;33m\u001b[0m\u001b[0m\n",
      "\u001b[1;31mNotADirectoryError\u001b[0m: [WinError 267] The directory name is invalid: 'MICCAI_BraTS2020_TrainingData\\\\name_mapping.csv'"
     ],
     "ename": "NotADirectoryError",
     "evalue": "[WinError 267] The directory name is invalid: 'MICCAI_BraTS2020_TrainingData\\\\name_mapping.csv'",
     "output_type": "error"
    }
   ],
   "source": [
    "import gzip\n",
    "import shutil\n",
    "import os\n",
    "import nibabel as nib\n",
    "from tifffile import imsave, imread\n",
    "import numpy as np\n",
    "import matplotlib.pyplot as plt\n",
    "import imageio\n",
    "from PIL import Image\n",
    "from array2gif import write_gif\n",
    "%matplotlib inline\n",
    "\n",
    "\n",
    "def make_dir(path):\n",
    "    if(not os.path.isdir(path)):\n",
    "        os.makedirs(path)\n",
    "        \n",
    "\n",
    "folder_name='MICCAI_BraTS2020_TrainingData'\n",
    "dataset_path = 'dataset'\n",
    "\n",
    "main_dir=os.listdir(folder_name)\n",
    "make_dir(dataset_path)\n",
    "for folder in main_dir:\n",
    "    cur_dir = os.path.join(folder_name,folder)\n",
    "    cur_dir_files = os.listdir(cur_dir)\n",
    "    for i,file in enumerate(cur_dir_files):\n",
    "        \n",
    "        file_path = os.path.join(cur_dir, file)   \n",
    "        if 'seg' in file_path:   \n",
    "            #print(file)\n",
    "            imgVol = nib.load(file_path)\n",
    "            npdata = imgVol.get_fdata()\n",
    "            npdata=npdata.astype(np.uint8)\n",
    "            x=npdata.shape[0]\n",
    "            y=npdata.shape[1]\n",
    "            n=npdata.shape[2]\n",
    "            array=np.zeros((x,y,3,n))\n",
    "            array[:,:,0,:]=np.where(npdata==1,255*np.ones((x,y,n)),np.zeros((x,y,n)))\n",
    "            array[:,:,1,:]=np.where(npdata==2,255*np.ones((x,y,n)),np.zeros((x,y,n)))\n",
    "            array[:,:,2,:]=np.where(npdata==4,255*np.ones((x,y,n)),np.zeros((x,y,n)))\n",
    "            array=array.astype(np.uint8)\n",
    "            array=array.transpose(3,0,1,2)\n",
    "            #print(array.shape)\n",
    "            #plt.imshow(array[:,:,:,51])\n",
    "            #write_gif(array.transpose((3,0,1,2)),f'movie{i}.gif',fps=300)\n",
    "            save_path=os.path.join(dataset_path,'segmentation',file)\n",
    "            for j, image in enumerate(array):\n",
    "                #print(image.shape)\n",
    "                im = Image.fromarray(image)\n",
    "                im.save(save_path + str(j) + '.png')\n",
    "        else:\n",
    "            continue           \n",
    "        #imageio.mimsave(f'movie{i}.gif', npdata.transpose(2,0,1)) "
   ]
  },
  {
   "cell_type": "code",
   "execution_count": null,
   "metadata": {
    "pycharm": {
     "is_executing": true
    }
   },
   "outputs": [
    {
     "name": "stdout",
     "text": [
      "BraTS20_Training_001_flair.nii.gz\n",
      "BraTS20_Training_001_seg.nii.gz\n",
      "BraTS20_Training_002_flair.nii.gz\n",
      "BraTS20_Training_002_seg.nii.gz\n",
      "BraTS20_Training_003_flair.nii.gz\n",
      "BraTS20_Training_003_seg.nii.gz\n",
      "BraTS20_Training_004_flair.nii.gz\n",
      "BraTS20_Training_004_seg.nii.gz\n",
      "BraTS20_Training_005_flair.nii.gz\n",
      "BraTS20_Training_005_seg.nii.gz\n",
      "BraTS20_Training_006_flair.nii.gz\n",
      "BraTS20_Training_006_seg.nii.gz\n",
      "BraTS20_Training_007_flair.nii.gz\n"
     ],
     "output_type": "stream"
    }
   ],
   "source": [
    "import gzip\n",
    "import shutil\n",
    "import os\n",
    "import nibabel as nib\n",
    "from tifffile import imsave, imread\n",
    "import numpy as np\n",
    "import matplotlib.pyplot as plt\n",
    "import imageio\n",
    "from array2gif import write_gif\n",
    "%matplotlib inline\n",
    "from PIL import Image\n",
    "\n",
    "\n",
    "def make_dir(path):\n",
    "    if(not os.path.isdir(path)):\n",
    "        os.makedirs(path)\n",
    "        \n",
    "image_types=['flair', 'segmentation', 't1', 't1ce', 't2']\n",
    "folder_name='MICCAI_BraTS2020_TrainingData'\n",
    "dataset_path = 'dataset'\n",
    "\n",
    "main_dir=os.listdir(folder_name)\n",
    "make_dir(dataset_path)\n",
    "for image_type in image_types:\n",
    "    make_dir(os.path.join(dataset_path, image_type))\n",
    "\n",
    "for folder in main_dir:\n",
    "    cur_dir = os.path.join(folder_name,folder)\n",
    "    cur_dir_files = os.listdir(cur_dir)\n",
    "    for i,file in enumerate(cur_dir_files):\n",
    "        print(file)\n",
    "        file_path = os.path.join(cur_dir, file)   \n",
    "        save_path = os.path.join(dataset_path, image_types[i],file)    \n",
    "        imgVol = nib.load(file_path)\n",
    "        npdata = imgVol.get_fdata()\n",
    "        npdata=npdata.astype(np.uint8)\n",
    "        for j, image in enumerate(npdata.transpose(2,0,1)):\n",
    "            im = Image.fromarray(image)\n",
    "            im.save(save_path+str(j)+'.png')\n",
    "        if 'seg' in file_path:\n",
    "            break"
   ]
  },
  {
   "cell_type": "code",
   "execution_count": 4,
   "metadata": {
    "pycharm": {
     "is_executing": false
    }
   },
   "outputs": [],
   "source": [
    "import torch.nn as nn\n",
    "import torch.nn.functional as F\n",
    "import torch\n",
    "import numpy as np\n",
    "from model import *\n",
    "from create_dataloader import *\n",
    "import torch.optim as optim\n",
    "from utils import *\n",
    "from torch.utils.tensorboard import SummaryWriter\n",
    "from tqdm import tqdm\n",
    "from loss import *\n",
    "%load_ext autoreload\n",
    "%autoreload 2\n",
    "flair_imgs_dir = './dataset/flair'\n",
    "t1ce_imgs_dir = './dataset/t1ce'\n",
    "t2_imgs_dir = './dataset/t2'\n",
    "gt_imgs_dir = './dataset/segmentation'\n",
    "\n",
    "\n",
    "train_tuple, validation_tuple, test_tuple = get_data(flair_imgs_dir=flair_imgs_dir, t1ce_imgs_dir=t1ce_imgs_dir, t2_imgs_dir=t2_imgs_dir, gt_imgs_dir=gt_imgs_dir)\n",
    "\n",
    "torch.manual_seed(42)\n",
    "# Instanciating train, validation and test datasets\n",
    "train_dataset = Train_Dataset(train_tuple[0], train_tuple[1], train_tuple[2], train_tuple[3])\n",
    "val_dataset = vld_tst_Dataset(validation_tuple[0], validation_tuple[1], validation_tuple[2], validation_tuple[3])\n",
    "test_dataset = vld_tst_Dataset(test_tuple[0], test_tuple[1], test_tuple[2], test_tuple[3])\n"
   ]
  },
  {
   "cell_type": "code",
   "execution_count": 12,
   "outputs": [
    {
     "name": "stdout",
     "text": [
      "torch.Size([3, 160, 160]) torch.Size([3, 160, 160])\ntensor([[0., 0., 0.,  ..., 0., 0., 0.],\n        [0., 0., 0.,  ..., 0., 0., 0.],\n        [0., 0., 0.,  ..., 0., 0., 0.],\n        ...,\n        [0., 0., 0.,  ..., 0., 0., 0.],\n        [0., 0., 0.,  ..., 0., 0., 0.],\n        [0., 0., 0.,  ..., 0., 0., 0.]])\n"
     ],
     "output_type": "stream"
    },
    {
     "name": "stderr",
     "text": [
      "c:\\users\\ali\\appdata\\local\\programs\\python\\python37\\lib\\site-packages\\ipykernel_launcher.py:16: UserWarning: Matplotlib is currently using module://ipykernel.pylab.backend_inline, which is a non-GUI backend, so cannot show the figure.\n  app.launch_new_instance()\n"
     ],
     "output_type": "stream"
    },
    {
     "data": {
      "text/plain": "<Figure size 432x648 with 6 Axes>",
      "image/png": "[encoded data removed]"
     },
     "metadata": {
      "needs_background": "light"
     },
     "output_type": "display_data"
    }
   ],
   "source": [
    "import matplotlib.pyplot as plt\n",
    "%matplotlib inline\n",
    "\n",
    "\n",
    "for i, (input_images, input_seg) in enumerate(train_dataset):\n",
    "    if i!=53:\n",
    "        continue\n",
    "    print(input_images.shape,input_seg.shape)\n",
    "    fig, axes=plt.subplots(2,3,figsize=(6,9))\n",
    "    axes[0,0].imshow(input_images[0],cmap='gray')\n",
    "    axes[0,1].imshow(input_images[1],cmap='gray')\n",
    "    axes[0,2].imshow(input_images[2],cmap='gray')\n",
    "    axes[1,0].imshow(input_seg[0],cmap='gray')\n",
    "    axes[1,1].imshow(input_seg[1],cmap='gray')\n",
    "    axes[1,2].imshow(input_seg[2],cmap='gray')\n",
    "    fig.show()\n",
    "    print(input_seg[1])\n",
    "    break"
   ],
   "metadata": {
    "collapsed": false,
    "pycharm": {
     "name": "#%%\n",
     "is_executing": false
    }
   }
  },
  {
   "cell_type": "code",
   "execution_count": 2,
   "outputs": [
    {
     "traceback": [
      "\u001b[1;31m---------------------------------------------------------------------------\u001b[0m",
      "\u001b[1;31mImageFileError\u001b[0m                            Traceback (most recent call last)",
      "\u001b[1;32m<ipython-input-2-6ed08fb25438>\u001b[0m in \u001b[0;36m<module>\u001b[1;34m\u001b[0m\n\u001b[0;32m      6\u001b[0m \u001b[0mimage\u001b[0m\u001b[1;33m=\u001b[0m\u001b[0mImage\u001b[0m\u001b[1;33m.\u001b[0m\u001b[0mopen\u001b[0m\u001b[1;33m(\u001b[0m\u001b[1;34m'dataset/segmentation/BraTS20_Training_001_seg.nii.gz113.png'\u001b[0m\u001b[1;33m)\u001b[0m\u001b[1;33m\u001b[0m\u001b[1;33m\u001b[0m\u001b[0m\n\u001b[0;32m      7\u001b[0m \u001b[0marr\u001b[0m\u001b[1;33m=\u001b[0m\u001b[0mnp\u001b[0m\u001b[1;33m.\u001b[0m\u001b[0marray\u001b[0m\u001b[1;33m(\u001b[0m\u001b[0mimage\u001b[0m\u001b[1;33m)\u001b[0m\u001b[1;33m\u001b[0m\u001b[1;33m\u001b[0m\u001b[0m\n\u001b[1;32m----> 8\u001b[1;33m \u001b[0mimgVol\u001b[0m \u001b[1;33m=\u001b[0m \u001b[0mnib\u001b[0m\u001b[1;33m.\u001b[0m\u001b[0mload\u001b[0m\u001b[1;33m(\u001b[0m\u001b[0mfile_path\u001b[0m\u001b[1;33m)\u001b[0m\u001b[1;33m\u001b[0m\u001b[1;33m\u001b[0m\u001b[0m\n\u001b[0m\u001b[0;32m      9\u001b[0m \u001b[0mnpdata\u001b[0m \u001b[1;33m=\u001b[0m \u001b[0mimgVol\u001b[0m\u001b[1;33m.\u001b[0m\u001b[0mget_fdata\u001b[0m\u001b[1;33m(\u001b[0m\u001b[1;33m)\u001b[0m\u001b[1;33m\u001b[0m\u001b[1;33m\u001b[0m\u001b[0m\n\u001b[0;32m     10\u001b[0m \u001b[0mnpdata\u001b[0m\u001b[1;33m=\u001b[0m\u001b[0mnpdata\u001b[0m\u001b[1;33m.\u001b[0m\u001b[0mastype\u001b[0m\u001b[1;33m(\u001b[0m\u001b[0mnp\u001b[0m\u001b[1;33m.\u001b[0m\u001b[0muint8\u001b[0m\u001b[1;33m)\u001b[0m\u001b[1;33m\u001b[0m\u001b[1;33m\u001b[0m\u001b[0m\n",
      "\u001b[1;32mc:\\users\\ali\\appdata\\local\\programs\\python\\python37\\lib\\site-packages\\nibabel\\loadsave.py\u001b[0m in \u001b[0;36mload\u001b[1;34m(filename, **kwargs)\u001b[0m\n\u001b[0;32m     54\u001b[0m \u001b[1;33m\u001b[0m\u001b[0m\n\u001b[0;32m     55\u001b[0m     raise ImageFileError('Cannot work out file type of \"%s\"' %\n\u001b[1;32m---> 56\u001b[1;33m                          filename)\n\u001b[0m\u001b[0;32m     57\u001b[0m \u001b[1;33m\u001b[0m\u001b[0m\n\u001b[0;32m     58\u001b[0m \u001b[1;33m\u001b[0m\u001b[0m\n",
      "\u001b[1;31mImageFileError\u001b[0m: Cannot work out file type of \"dataset/segmentation/BraTS20_Training_001_seg.nii.gz113.png\""
     ],
     "ename": "ImageFileError",
     "evalue": "Cannot work out file type of \"dataset/segmentation/BraTS20_Training_001_seg.nii.gz113.png\"",
     "output_type": "error"
    }
   ],
   "source": [
    "from PIL import Image\n",
    "import numpy as np\n",
    "import nibabel as nib\n",
    "\n",
    "file_path='dataset/segmentation/BraTS20_Training_001_seg.nii.gz113.png'\n",
    "image=Image.open('dataset/segmentation/BraTS20_Training_001_seg.nii.gz113.png')\n",
    "arr=np.array(image)\n",
    "imgVol = nib.load(file_path)\n",
    "npdata = imgVol.get_fdata()\n",
    "npdata=npdata.astype(np.uint8)\n",
    "        \n",
    "\n",
    "x=npdata.shape[0]\n",
    "y=npdata.shape[1]\n",
    "n=npdata.shape[2]\n",
    "array=np.zeros((x,y,3,n))\n",
    "array[:,:,0,:]=np.where(npdata==1,255*np.ones((x,y,n)),np.zeros((x,y,n)))\n",
    "array[:,:,1,:]=np.where(npdata==2,255*np.ones((x,y,n)),np.zeros((x,y,n)))\n",
    "array[:,:,2,:]=np.where(npdata==4,255*np.ones((x,y,n)),np.zeros((x,y,n)))\n",
    "array=array.astype(np.uint8)\n",
    "print(array.shape)\n",
    "plt.imshow(array[:,:,:,51])\n",
    "write_gif(array.transpose((3,0,1,2)),f'movie{i}.gif',fps=300)\n",
    "# array[:,:,0,:]=np.where(arr==1,255*np.ones((x,y,n)),np.zeros((x,y,n)))\n",
    "# plt.imshow(arr)\n",
    "# plt.show()\n",
    "# print(np.unique(arr))\n"
   ],
   "metadata": {
    "collapsed": false,
    "pycharm": {
     "name": "#%%\n",
     "is_executing": false
    }
   }
  },
  {
   "cell_type": "code",
   "execution_count": null,
   "outputs": [],
   "source": [
    "\n"
   ],
   "metadata": {
    "collapsed": false,
    "pycharm": {
     "name": "#%%\n"
    }
   }
  }
 ],
 "metadata": {
  "kernelspec": {
   "display_name": "Python 3",
   "language": "python",
   "name": "python3"
  },
  "pycharm": {
   "stem_cell": {
    "cell_type": "raw",
    "source": [],
    "metadata": {
     "collapsed": false
    }
   }
  }
 },
 "nbformat": 4,
 "nbformat_minor": 2
}